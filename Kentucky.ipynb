{
 "cells": [
  {
   "cell_type": "code",
   "execution_count": 2,
   "metadata": {},
   "outputs": [
    {
     "name": "stderr",
     "output_type": "stream",
     "text": [
      "Parsed with column specification:\n",
      "cols(\n",
      "  INCIDENT_NUMBER = \u001b[31mcol_character()\u001b[39m,\n",
      "  DATE_REPORTED = \u001b[34mcol_datetime(format = \"\")\u001b[39m,\n",
      "  DATE_OCCURED = \u001b[34mcol_datetime(format = \"\")\u001b[39m,\n",
      "  UOR_DESC = \u001b[31mcol_character()\u001b[39m,\n",
      "  CRIME_TYPE = \u001b[31mcol_character()\u001b[39m,\n",
      "  NIBRS_CODE = \u001b[31mcol_character()\u001b[39m,\n",
      "  UCR_HIERARCHY = \u001b[31mcol_character()\u001b[39m,\n",
      "  ATT_COMP = \u001b[31mcol_character()\u001b[39m,\n",
      "  LMPD_DIVISION = \u001b[31mcol_character()\u001b[39m,\n",
      "  LMPD_BEAT = \u001b[31mcol_character()\u001b[39m,\n",
      "  PREMISE_TYPE = \u001b[31mcol_character()\u001b[39m,\n",
      "  BLOCK_ADDRESS = \u001b[31mcol_character()\u001b[39m,\n",
      "  CITY = \u001b[31mcol_character()\u001b[39m,\n",
      "  ZIP_CODE = \u001b[32mcol_double()\u001b[39m,\n",
      "  ID = \u001b[32mcol_double()\u001b[39m\n",
      ")\n",
      "Parsed with column specification:\n",
      "cols(\n",
      "  INCIDENT_NUMBER = \u001b[31mcol_character()\u001b[39m,\n",
      "  DATE_REPORTED = \u001b[34mcol_datetime(format = \"\")\u001b[39m,\n",
      "  DATE_OCCURED = \u001b[34mcol_datetime(format = \"\")\u001b[39m,\n",
      "  UOR_DESC = \u001b[31mcol_character()\u001b[39m,\n",
      "  CRIME_TYPE = \u001b[31mcol_character()\u001b[39m,\n",
      "  NIBRS_CODE = \u001b[31mcol_character()\u001b[39m,\n",
      "  UCR_HIERARCHY = \u001b[31mcol_character()\u001b[39m,\n",
      "  ATT_COMP = \u001b[31mcol_character()\u001b[39m,\n",
      "  LMPD_DIVISION = \u001b[31mcol_character()\u001b[39m,\n",
      "  LMPD_BEAT = \u001b[31mcol_character()\u001b[39m,\n",
      "  PREMISE_TYPE = \u001b[31mcol_character()\u001b[39m,\n",
      "  BLOCK_ADDRESS = \u001b[31mcol_character()\u001b[39m,\n",
      "  CITY = \u001b[31mcol_character()\u001b[39m,\n",
      "  ZIP_CODE = \u001b[32mcol_double()\u001b[39m,\n",
      "  ID = \u001b[32mcol_double()\u001b[39m\n",
      ")\n",
      "Warning message:\n",
      "“3 parsing failures.\n",
      "  row      col           expected     actual                  file\n",
      "32272 UOR_DESC delimiter or quote M          'Crime_Data_2006.csv'\n",
      "32272 UOR_DESC delimiter or quote O          'Crime_Data_2006.csv'\n",
      "32272 NA       15 columns         14 columns 'Crime_Data_2006.csv'\n",
      "”Parsed with column specification:\n",
      "cols(\n",
      "  INCIDENT_NUMBER = \u001b[31mcol_character()\u001b[39m,\n",
      "  DATE_REPORTED = \u001b[34mcol_datetime(format = \"\")\u001b[39m,\n",
      "  DATE_OCCURED = \u001b[34mcol_datetime(format = \"\")\u001b[39m,\n",
      "  UOR_DESC = \u001b[31mcol_character()\u001b[39m,\n",
      "  CRIME_TYPE = \u001b[31mcol_character()\u001b[39m,\n",
      "  NIBRS_CODE = \u001b[31mcol_character()\u001b[39m,\n",
      "  UCR_HIERARCHY = \u001b[31mcol_character()\u001b[39m,\n",
      "  ATT_COMP = \u001b[31mcol_character()\u001b[39m,\n",
      "  LMPD_DIVISION = \u001b[31mcol_character()\u001b[39m,\n",
      "  LMPD_BEAT = \u001b[31mcol_character()\u001b[39m,\n",
      "  PREMISE_TYPE = \u001b[31mcol_character()\u001b[39m,\n",
      "  BLOCK_ADDRESS = \u001b[31mcol_character()\u001b[39m,\n",
      "  CITY = \u001b[31mcol_character()\u001b[39m,\n",
      "  ZIP_CODE = \u001b[32mcol_double()\u001b[39m,\n",
      "  ID = \u001b[32mcol_double()\u001b[39m\n",
      ")\n",
      "Parsed with column specification:\n",
      "cols(\n",
      "  INCIDENT_NUMBER = \u001b[31mcol_character()\u001b[39m,\n",
      "  DATE_REPORTED = \u001b[34mcol_datetime(format = \"\")\u001b[39m,\n",
      "  DATE_OCCURED = \u001b[34mcol_datetime(format = \"\")\u001b[39m,\n",
      "  UOR_DESC = \u001b[31mcol_character()\u001b[39m,\n",
      "  CRIME_TYPE = \u001b[31mcol_character()\u001b[39m,\n",
      "  NIBRS_CODE = \u001b[31mcol_character()\u001b[39m,\n",
      "  UCR_HIERARCHY = \u001b[31mcol_character()\u001b[39m,\n",
      "  ATT_COMP = \u001b[31mcol_character()\u001b[39m,\n",
      "  LMPD_DIVISION = \u001b[31mcol_character()\u001b[39m,\n",
      "  LMPD_BEAT = \u001b[31mcol_character()\u001b[39m,\n",
      "  PREMISE_TYPE = \u001b[31mcol_character()\u001b[39m,\n",
      "  BLOCK_ADDRESS = \u001b[31mcol_character()\u001b[39m,\n",
      "  CITY = \u001b[31mcol_character()\u001b[39m,\n",
      "  ZIP_CODE = \u001b[32mcol_double()\u001b[39m,\n",
      "  ID = \u001b[32mcol_double()\u001b[39m\n",
      ")\n",
      "Parsed with column specification:\n",
      "cols(\n",
      "  INCIDENT_NUMBER = \u001b[31mcol_character()\u001b[39m,\n",
      "  DATE_REPORTED = \u001b[34mcol_datetime(format = \"\")\u001b[39m,\n",
      "  DATE_OCCURED = \u001b[34mcol_datetime(format = \"\")\u001b[39m,\n",
      "  UOR_DESC = \u001b[31mcol_character()\u001b[39m,\n",
      "  CRIME_TYPE = \u001b[31mcol_character()\u001b[39m,\n",
      "  NIBRS_CODE = \u001b[31mcol_character()\u001b[39m,\n",
      "  UCR_HIERARCHY = \u001b[31mcol_character()\u001b[39m,\n",
      "  ATT_COMP = \u001b[31mcol_character()\u001b[39m,\n",
      "  LMPD_DIVISION = \u001b[31mcol_character()\u001b[39m,\n",
      "  LMPD_BEAT = \u001b[31mcol_character()\u001b[39m,\n",
      "  PREMISE_TYPE = \u001b[31mcol_character()\u001b[39m,\n",
      "  BLOCK_ADDRESS = \u001b[31mcol_character()\u001b[39m,\n",
      "  CITY = \u001b[31mcol_character()\u001b[39m,\n",
      "  ZIP_CODE = \u001b[32mcol_double()\u001b[39m,\n",
      "  ID = \u001b[32mcol_double()\u001b[39m\n",
      ")\n",
      "Warning message:\n",
      "“7 parsing failures.\n",
      "  row      col               expected actual                  file\n",
      " 6116 ZIP_CODE no trailing characters      - 'Crime_Data_2009.csv'\n",
      " 7966 ZIP_CODE no trailing characters      - 'Crime_Data_2009.csv'\n",
      " 7968 ZIP_CODE no trailing characters      - 'Crime_Data_2009.csv'\n",
      " 8120 ZIP_CODE no trailing characters      - 'Crime_Data_2009.csv'\n",
      "44074 ZIP_CODE no trailing characters      - 'Crime_Data_2009.csv'\n",
      "..... ........ ...................... ...... .....................\n",
      "See problems(...) for more details.\n",
      "”Parsed with column specification:\n",
      "cols(\n",
      "  INCIDENT_NUMBER = \u001b[31mcol_character()\u001b[39m,\n",
      "  DATE_REPORTED = \u001b[34mcol_datetime(format = \"\")\u001b[39m,\n",
      "  DATE_OCCURED = \u001b[34mcol_datetime(format = \"\")\u001b[39m,\n",
      "  UOR_DESC = \u001b[31mcol_character()\u001b[39m,\n",
      "  CRIME_TYPE = \u001b[31mcol_character()\u001b[39m,\n",
      "  NIBRS_CODE = \u001b[31mcol_character()\u001b[39m,\n",
      "  UCR_HIERARCHY = \u001b[31mcol_character()\u001b[39m,\n",
      "  ATT_COMP = \u001b[31mcol_character()\u001b[39m,\n",
      "  LMPD_DIVISION = \u001b[31mcol_character()\u001b[39m,\n",
      "  LMPD_BEAT = \u001b[31mcol_character()\u001b[39m,\n",
      "  PREMISE_TYPE = \u001b[31mcol_character()\u001b[39m,\n",
      "  BLOCK_ADDRESS = \u001b[31mcol_character()\u001b[39m,\n",
      "  CITY = \u001b[31mcol_character()\u001b[39m,\n",
      "  ZIP_CODE = \u001b[32mcol_double()\u001b[39m,\n",
      "  ID = \u001b[32mcol_double()\u001b[39m\n",
      ")\n",
      "Warning message:\n",
      "“2 parsing failures.\n",
      "  row      col               expected actual                  file\n",
      "23374 ZIP_CODE no trailing characters      - 'Crime_Data_2010.csv'\n",
      "27415 ZIP_CODE no trailing characters      - 'Crime_Data_2010.csv'\n",
      "”Parsed with column specification:\n",
      "cols(\n",
      "  INCIDENT_NUMBER = \u001b[31mcol_character()\u001b[39m,\n",
      "  DATE_REPORTED = \u001b[34mcol_datetime(format = \"\")\u001b[39m,\n",
      "  DATE_OCCURED = \u001b[34mcol_datetime(format = \"\")\u001b[39m,\n",
      "  UOR_DESC = \u001b[31mcol_character()\u001b[39m,\n",
      "  CRIME_TYPE = \u001b[31mcol_character()\u001b[39m,\n",
      "  NIBRS_CODE = \u001b[31mcol_character()\u001b[39m,\n",
      "  UCR_HIERARCHY = \u001b[31mcol_character()\u001b[39m,\n",
      "  ATT_COMP = \u001b[31mcol_character()\u001b[39m,\n",
      "  LMPD_DIVISION = \u001b[31mcol_character()\u001b[39m,\n",
      "  LMPD_BEAT = \u001b[31mcol_character()\u001b[39m,\n",
      "  PREMISE_TYPE = \u001b[31mcol_character()\u001b[39m,\n",
      "  BLOCK_ADDRESS = \u001b[31mcol_character()\u001b[39m,\n",
      "  CITY = \u001b[31mcol_character()\u001b[39m,\n",
      "  ZIP_CODE = \u001b[32mcol_double()\u001b[39m,\n",
      "  ID = \u001b[32mcol_double()\u001b[39m\n",
      ")\n",
      "Parsed with column specification:\n",
      "cols(\n",
      "  INCIDENT_NUMBER = \u001b[31mcol_character()\u001b[39m,\n",
      "  DATE_REPORTED = \u001b[34mcol_datetime(format = \"\")\u001b[39m,\n",
      "  DATE_OCCURED = \u001b[34mcol_datetime(format = \"\")\u001b[39m,\n",
      "  UOR_DESC = \u001b[31mcol_character()\u001b[39m,\n",
      "  CRIME_TYPE = \u001b[31mcol_character()\u001b[39m,\n",
      "  NIBRS_CODE = \u001b[31mcol_character()\u001b[39m,\n",
      "  UCR_HIERARCHY = \u001b[31mcol_character()\u001b[39m,\n",
      "  ATT_COMP = \u001b[31mcol_character()\u001b[39m,\n",
      "  LMPD_DIVISION = \u001b[31mcol_character()\u001b[39m,\n",
      "  LMPD_BEAT = \u001b[31mcol_character()\u001b[39m,\n",
      "  PREMISE_TYPE = \u001b[31mcol_character()\u001b[39m,\n",
      "  BLOCK_ADDRESS = \u001b[31mcol_character()\u001b[39m,\n",
      "  CITY = \u001b[31mcol_character()\u001b[39m,\n",
      "  ZIP_CODE = \u001b[32mcol_double()\u001b[39m,\n",
      "  ID = \u001b[32mcol_double()\u001b[39m\n",
      ")\n",
      "Parsed with column specification:\n",
      "cols(\n",
      "  INCIDENT_NUMBER = \u001b[31mcol_character()\u001b[39m,\n",
      "  DATE_REPORTED = \u001b[34mcol_datetime(format = \"\")\u001b[39m,\n",
      "  DATE_OCCURED = \u001b[34mcol_datetime(format = \"\")\u001b[39m,\n",
      "  UOR_DESC = \u001b[31mcol_character()\u001b[39m,\n",
      "  CRIME_TYPE = \u001b[31mcol_character()\u001b[39m,\n",
      "  NIBRS_CODE = \u001b[31mcol_character()\u001b[39m,\n",
      "  UCR_HIERARCHY = \u001b[31mcol_character()\u001b[39m,\n",
      "  ATT_COMP = \u001b[31mcol_character()\u001b[39m,\n",
      "  LMPD_DIVISION = \u001b[31mcol_character()\u001b[39m,\n",
      "  LMPD_BEAT = \u001b[31mcol_character()\u001b[39m,\n",
      "  PREMISE_TYPE = \u001b[31mcol_character()\u001b[39m,\n",
      "  BLOCK_ADDRESS = \u001b[31mcol_character()\u001b[39m,\n",
      "  CITY = \u001b[31mcol_character()\u001b[39m,\n",
      "  ZIP_CODE = \u001b[32mcol_double()\u001b[39m,\n",
      "  ID = \u001b[32mcol_double()\u001b[39m\n",
      ")\n",
      "Parsed with column specification:\n",
      "cols(\n",
      "  INCIDENT_NUMBER = \u001b[31mcol_character()\u001b[39m,\n",
      "  DATE_REPORTED = \u001b[34mcol_datetime(format = \"\")\u001b[39m,\n",
      "  DATE_OCCURED = \u001b[34mcol_datetime(format = \"\")\u001b[39m,\n",
      "  UOR_DESC = \u001b[31mcol_character()\u001b[39m,\n",
      "  CRIME_TYPE = \u001b[31mcol_character()\u001b[39m,\n",
      "  NIBRS_CODE = \u001b[31mcol_character()\u001b[39m,\n",
      "  UCR_HIERARCHY = \u001b[31mcol_character()\u001b[39m,\n",
      "  ATT_COMP = \u001b[31mcol_character()\u001b[39m,\n",
      "  LMPD_DIVISION = \u001b[31mcol_character()\u001b[39m,\n",
      "  LMPD_BEAT = \u001b[31mcol_character()\u001b[39m,\n",
      "  PREMISE_TYPE = \u001b[31mcol_character()\u001b[39m,\n",
      "  BLOCK_ADDRESS = \u001b[31mcol_character()\u001b[39m,\n",
      "  CITY = \u001b[31mcol_character()\u001b[39m,\n",
      "  ZIP_CODE = \u001b[32mcol_double()\u001b[39m,\n",
      "  ID = \u001b[32mcol_double()\u001b[39m\n",
      ")\n",
      "Warning message:\n",
      "“1 parsing failure.\n",
      "  row      col expected actual                  file\n",
      "72279 ZIP_CODE a double      ` 'Crime_Data_2014.csv'\n",
      "”Parsed with column specification:\n",
      "cols(\n",
      "  INCIDENT_NUMBER = \u001b[31mcol_character()\u001b[39m,\n",
      "  DATE_REPORTED = \u001b[34mcol_datetime(format = \"\")\u001b[39m,\n",
      "  DATE_OCCURED = \u001b[34mcol_datetime(format = \"\")\u001b[39m,\n",
      "  UOR_DESC = \u001b[31mcol_character()\u001b[39m,\n",
      "  CRIME_TYPE = \u001b[31mcol_character()\u001b[39m,\n",
      "  NIBRS_CODE = \u001b[31mcol_character()\u001b[39m,\n",
      "  UCR_HIERARCHY = \u001b[31mcol_character()\u001b[39m,\n",
      "  ATT_COMP = \u001b[31mcol_character()\u001b[39m,\n",
      "  LMPD_DIVISION = \u001b[31mcol_character()\u001b[39m,\n",
      "  LMPD_BEAT = \u001b[31mcol_character()\u001b[39m,\n",
      "  PREMISE_TYPE = \u001b[31mcol_character()\u001b[39m,\n",
      "  BLOCK_ADDRESS = \u001b[31mcol_character()\u001b[39m,\n",
      "  CITY = \u001b[31mcol_character()\u001b[39m,\n",
      "  ZIP_CODE = \u001b[32mcol_double()\u001b[39m,\n",
      "  ID = \u001b[32mcol_double()\u001b[39m\n",
      ")\n",
      "Warning message:\n",
      "“1 parsing failure.\n",
      "  row      col expected actual                  file\n",
      "11421 ZIP_CODE a double      ` 'Crime_Data_2015.csv'\n",
      "”Parsed with column specification:\n",
      "cols(\n",
      "  INCIDENT_NUMBER = \u001b[31mcol_character()\u001b[39m,\n",
      "  DATE_REPORTED = \u001b[34mcol_datetime(format = \"\")\u001b[39m,\n",
      "  DATE_OCCURED = \u001b[34mcol_datetime(format = \"\")\u001b[39m,\n",
      "  UOR_DESC = \u001b[31mcol_character()\u001b[39m,\n",
      "  CRIME_TYPE = \u001b[31mcol_character()\u001b[39m,\n",
      "  NIBRS_CODE = \u001b[31mcol_character()\u001b[39m,\n",
      "  UCR_HIERARCHY = \u001b[31mcol_character()\u001b[39m,\n",
      "  ATT_COMP = \u001b[31mcol_character()\u001b[39m,\n",
      "  LMPD_DIVISION = \u001b[31mcol_character()\u001b[39m,\n",
      "  LMPD_BEAT = \u001b[31mcol_character()\u001b[39m,\n",
      "  PREMISE_TYPE = \u001b[31mcol_character()\u001b[39m,\n",
      "  BLOCK_ADDRESS = \u001b[31mcol_character()\u001b[39m,\n",
      "  CITY = \u001b[31mcol_character()\u001b[39m,\n",
      "  ZIP_CODE = \u001b[32mcol_double()\u001b[39m,\n",
      "  ID = \u001b[32mcol_double()\u001b[39m\n",
      ")\n",
      "Parsed with column specification:\n",
      "cols(\n",
      "  INCIDENT_NUMBER = \u001b[31mcol_character()\u001b[39m,\n",
      "  DATE_REPORTED = \u001b[34mcol_datetime(format = \"\")\u001b[39m,\n",
      "  DATE_OCCURED = \u001b[34mcol_datetime(format = \"\")\u001b[39m,\n",
      "  UOR_DESC = \u001b[31mcol_character()\u001b[39m,\n",
      "  CRIME_TYPE = \u001b[31mcol_character()\u001b[39m,\n",
      "  NIBRS_CODE = \u001b[31mcol_character()\u001b[39m,\n",
      "  UCR_HIERARCHY = \u001b[31mcol_character()\u001b[39m,\n",
      "  ATT_COMP = \u001b[31mcol_character()\u001b[39m,\n",
      "  LMPD_DIVISION = \u001b[31mcol_character()\u001b[39m,\n",
      "  LMPD_BEAT = \u001b[31mcol_character()\u001b[39m,\n",
      "  PREMISE_TYPE = \u001b[31mcol_character()\u001b[39m,\n",
      "  BLOCK_ADDRESS = \u001b[31mcol_character()\u001b[39m,\n",
      "  CITY = \u001b[31mcol_character()\u001b[39m,\n",
      "  ZIP_CODE = \u001b[32mcol_double()\u001b[39m,\n",
      "  ID = \u001b[32mcol_double()\u001b[39m\n",
      ")\n",
      "Warning message:\n",
      "“3 parsing failures.\n",
      "  row      col expected actual                    file\n",
      "18900 ZIP_CODE a double   :NOR 'Crime_Data_2017_9.csv'\n",
      "26955 ZIP_CODE a double   U    'Crime_Data_2017_9.csv'\n",
      "55717 ZIP_CODE a double   `    'Crime_Data_2017_9.csv'\n",
      "”"
     ]
    }
   ],
   "source": [
    "# load the data\n",
    "\n",
    "library(readr)\n",
    "library(dplyr)\n",
    "library(stringr)\n",
    "\n",
    "crime_2005 <- data.frame(read_csv(\"Crime_Data_2005.csv\"))\n",
    "crime_2006 <- data.frame(read_csv(\"Crime_Data_2006.csv\"))\n",
    "crime_2007 <- data.frame(read_csv(\"Crime_Data_2007.csv\"))\n",
    "crime_2008 <- data.frame(read_csv(\"Crime_Data_2008.csv\"))\n",
    "crime_2009 <- data.frame(read_csv(\"Crime_Data_2009.csv\"))\n",
    "crime_2010 <- data.frame(read_csv(\"Crime_Data_2010.csv\"))\n",
    "crime_2011 <- data.frame(read_csv(\"Crime_Data_2011.csv\"))\n",
    "crime_2012 <- data.frame(read_csv(\"Crime_Data_2012.csv\"))\n",
    "crime_2013 <- data.frame(read_csv(\"Crime_Data_2013.csv\"))\n",
    "crime_2014 <- data.frame(read_csv(\"Crime_Data_2014.csv\"))\n",
    "crime_2015 <- data.frame(read_csv(\"Crime_Data_2015.csv\"))\n",
    "crime_2016 <- data.frame(read_csv(\"Crime_Data_2016_39.csv\"))\n",
    "crime_2017 <- data.frame(read_csv(\"Crime_Data_2017_9.csv\"))"
   ]
  },
  {
   "cell_type": "code",
   "execution_count": 4,
   "metadata": {},
   "outputs": [],
   "source": [
    "# join all table into one data frame\n",
    "ky_join <- bind_rows(list(crime_2005,crime_2006,crime_2007,crime_2008,\n",
    "                          crime_2009,crime_2010,crime_2011,crime_2012,\n",
    "                          crime_2013,crime_2014,crime_2015,crime_2016,crime_2017))"
   ]
  },
  {
   "cell_type": "code",
   "execution_count": 5,
   "metadata": {},
   "outputs": [],
   "source": [
    "# write a function to find drug offense \n",
    "\n",
    "flag_drug <- function(v) {\n",
    "    \n",
    "    n <- length(v)\n",
    "    drug <- rep(FALSE, n)\n",
    "    \n",
    "    for(i in 1:n){\n",
    "      drug [i] <- v[i] == c(\"DRUGS/ALCOHOL VIOLATIONS\")  \n",
    "    }\n",
    "       \n",
    "    return(drug)\n",
    "\n",
    "}"
   ]
  },
  {
   "cell_type": "code",
   "execution_count": 6,
   "metadata": {},
   "outputs": [],
   "source": [
    "# add is_drug column to identify the drug/acohol offense\n",
    "ky_join$is_drug <- flag_drug(ky_join$CRIME_TYPE)\n"
   ]
  },
  {
   "cell_type": "code",
   "execution_count": 7,
   "metadata": {},
   "outputs": [
    {
     "data": {
      "text/html": [
       "178850"
      ],
      "text/latex": [
       "178850"
      ],
      "text/markdown": [
       "178850"
      ],
      "text/plain": [
       "[1] 178850"
      ]
     },
     "metadata": {},
     "output_type": "display_data"
    }
   ],
   "source": [
    "# only select drug offense in drug_ky\n",
    "\n",
    "drug_ky <- filter(ky_join,str_detect(ky_join$UOR_DESC, \"ALCOHOL\")==FALSE & \n",
    "                  is_drug==TRUE,UOR_DESC != \"ALCOHOL\")\n",
    "nrow(drug_ky)"
   ]
  },
  {
   "cell_type": "code",
   "execution_count": 8,
   "metadata": {},
   "outputs": [],
   "source": [
    "# write a function to find not felony/ minor offense \n",
    "\n",
    "flag_minor <- function(v) {\n",
    "    \n",
    "    n <- length(v)\n",
    "    minor <- rep(FALSE, n)\n",
    "    \n",
    "    for(i in 1:n){\n",
    "        if(str_detect(v[i],\"PARAPHERNALIA\")){\n",
    "            minor[i] <- TRUE\n",
    "        }else if(str_detect(v[i],\"MARIJUANA\")){\n",
    "            if(str_detect(v[i],\"LESS THAN 8 OZ\")||str_detect(v[i],\"< 5 PLANTS\")){\n",
    "                minor[i] <- TRUE\n",
    "            }\n",
    "            \n",
    "        }        \n",
    "    }\n",
    "       \n",
    "    return(minor)\n",
    "\n",
    "}\n"
   ]
  },
  {
   "cell_type": "code",
   "execution_count": 9,
   "metadata": {},
   "outputs": [
    {
     "data": {
      "text/plain": [
       "\n",
       " FALSE   TRUE \n",
       "118687  60163 "
      ]
     },
     "metadata": {},
     "output_type": "display_data"
    }
   ],
   "source": [
    "# add is_minor column to identify the minor drug offense\n",
    "drug_ky$is_minor <- flag_minor(drug_ky$UOR_DESC)\n",
    "table(drug_ky$is_minor)"
   ]
  },
  {
   "cell_type": "code",
   "execution_count": null,
   "metadata": {},
   "outputs": [],
   "source": [
    "\n"
   ]
  },
  {
   "cell_type": "code",
   "execution_count": null,
   "metadata": {},
   "outputs": [],
   "source": []
  },
  {
   "cell_type": "code",
   "execution_count": 77,
   "metadata": {},
   "outputs": [],
   "source": [
    "# # add year column to identify the year that violation occurred \n",
    "library(lubridate)\n",
    "drug_ky$year <- year(drug_ky$DATE_OCCURED)\n",
    "ky_join$year <- year(ky_join$DATE_OCCURED) \n"
   ]
  },
  {
   "cell_type": "code",
   "execution_count": 78,
   "metadata": {},
   "outputs": [],
   "source": [
    "# summarise offense based on year\n",
    "\n",
    "ky_drug_minor <- drug_ky %>%\n",
    "group_by(year) %>%\n",
    "summarise(minor_offense=sum(is_minor),felony = sum(is_minor==FALSE),\n",
    "          total=sum(is_minor)+sum(is_minor==FALSE))  \n",
    "\n",
    "ky_all <- ky_join %>%\n",
    "group_by(year) %>%\n",
    "summarise(total_offense=n())  \n"
   ]
  },
  {
   "cell_type": "code",
   "execution_count": 79,
   "metadata": {},
   "outputs": [
    {
     "data": {
      "text/html": [
       "<table>\n",
       "<caption>A tibble: 14 × 4</caption>\n",
       "<thead>\n",
       "\t<tr><th scope=col>year</th><th scope=col>minor_offense</th><th scope=col>felony</th><th scope=col>total</th></tr>\n",
       "\t<tr><th scope=col>&lt;dbl&gt;</th><th scope=col>&lt;int&gt;</th><th scope=col>&lt;int&gt;</th><th scope=col>&lt;int&gt;</th></tr>\n",
       "</thead>\n",
       "<tbody>\n",
       "\t<tr><td>2005</td><td>3701</td><td> 7261</td><td>10962</td></tr>\n",
       "\t<tr><td>2006</td><td>4225</td><td> 8996</td><td>13221</td></tr>\n",
       "\t<tr><td>2007</td><td>4902</td><td>10264</td><td>15166</td></tr>\n",
       "\t<tr><td>2008</td><td>3927</td><td> 8137</td><td>12064</td></tr>\n",
       "\t<tr><td>2009</td><td>4091</td><td> 8451</td><td>12542</td></tr>\n",
       "\t<tr><td>2010</td><td>4569</td><td> 8839</td><td>13408</td></tr>\n",
       "\t<tr><td>2011</td><td>4813</td><td> 8583</td><td>13396</td></tr>\n",
       "\t<tr><td>2012</td><td>5233</td><td>10841</td><td>16074</td></tr>\n",
       "\t<tr><td>2013</td><td>5360</td><td> 9568</td><td>14928</td></tr>\n",
       "\t<tr><td>2014</td><td>5252</td><td> 9273</td><td>14525</td></tr>\n",
       "\t<tr><td>2015</td><td>4905</td><td> 9373</td><td>14278</td></tr>\n",
       "\t<tr><td>2016</td><td>4516</td><td> 9286</td><td>13802</td></tr>\n",
       "\t<tr><td>2017</td><td>4662</td><td> 9796</td><td>14458</td></tr>\n",
       "\t<tr><td>  NA</td><td>   3</td><td>   10</td><td>   13</td></tr>\n",
       "</tbody>\n",
       "</table>\n"
      ],
      "text/latex": [
       "A tibble: 14 × 4\n",
       "\\begin{tabular}{r|llll}\n",
       " year & minor\\_offense & felony & total\\\\\n",
       " <dbl> & <int> & <int> & <int>\\\\\n",
       "\\hline\n",
       "\t 2005 & 3701 &  7261 & 10962\\\\\n",
       "\t 2006 & 4225 &  8996 & 13221\\\\\n",
       "\t 2007 & 4902 & 10264 & 15166\\\\\n",
       "\t 2008 & 3927 &  8137 & 12064\\\\\n",
       "\t 2009 & 4091 &  8451 & 12542\\\\\n",
       "\t 2010 & 4569 &  8839 & 13408\\\\\n",
       "\t 2011 & 4813 &  8583 & 13396\\\\\n",
       "\t 2012 & 5233 & 10841 & 16074\\\\\n",
       "\t 2013 & 5360 &  9568 & 14928\\\\\n",
       "\t 2014 & 5252 &  9273 & 14525\\\\\n",
       "\t 2015 & 4905 &  9373 & 14278\\\\\n",
       "\t 2016 & 4516 &  9286 & 13802\\\\\n",
       "\t 2017 & 4662 &  9796 & 14458\\\\\n",
       "\t   NA &    3 &    10 &    13\\\\\n",
       "\\end{tabular}\n"
      ],
      "text/markdown": [
       "\n",
       "A tibble: 14 × 4\n",
       "\n",
       "| year &lt;dbl&gt; | minor_offense &lt;int&gt; | felony &lt;int&gt; | total &lt;int&gt; |\n",
       "|---|---|---|---|\n",
       "| 2005 | 3701 |  7261 | 10962 |\n",
       "| 2006 | 4225 |  8996 | 13221 |\n",
       "| 2007 | 4902 | 10264 | 15166 |\n",
       "| 2008 | 3927 |  8137 | 12064 |\n",
       "| 2009 | 4091 |  8451 | 12542 |\n",
       "| 2010 | 4569 |  8839 | 13408 |\n",
       "| 2011 | 4813 |  8583 | 13396 |\n",
       "| 2012 | 5233 | 10841 | 16074 |\n",
       "| 2013 | 5360 |  9568 | 14928 |\n",
       "| 2014 | 5252 |  9273 | 14525 |\n",
       "| 2015 | 4905 |  9373 | 14278 |\n",
       "| 2016 | 4516 |  9286 | 13802 |\n",
       "| 2017 | 4662 |  9796 | 14458 |\n",
       "|   NA |    3 |    10 |    13 |\n",
       "\n"
      ],
      "text/plain": [
       "   year minor_offense felony total\n",
       "1  2005 3701           7261  10962\n",
       "2  2006 4225           8996  13221\n",
       "3  2007 4902          10264  15166\n",
       "4  2008 3927           8137  12064\n",
       "5  2009 4091           8451  12542\n",
       "6  2010 4569           8839  13408\n",
       "7  2011 4813           8583  13396\n",
       "8  2012 5233          10841  16074\n",
       "9  2013 5360           9568  14928\n",
       "10 2014 5252           9273  14525\n",
       "11 2015 4905           9373  14278\n",
       "12 2016 4516           9286  13802\n",
       "13 2017 4662           9796  14458\n",
       "14   NA    3             10     13"
      ]
     },
     "metadata": {},
     "output_type": "display_data"
    },
    {
     "data": {
      "text/html": [
       "<table>\n",
       "<caption>A tibble: 14 × 2</caption>\n",
       "<thead>\n",
       "\t<tr><th scope=col>year</th><th scope=col>total_offense</th></tr>\n",
       "\t<tr><th scope=col>&lt;dbl&gt;</th><th scope=col>&lt;int&gt;</th></tr>\n",
       "</thead>\n",
       "<tbody>\n",
       "\t<tr><td>2005</td><td>77351</td></tr>\n",
       "\t<tr><td>2006</td><td>83865</td></tr>\n",
       "\t<tr><td>2007</td><td>90795</td></tr>\n",
       "\t<tr><td>2008</td><td>85858</td></tr>\n",
       "\t<tr><td>2009</td><td>77991</td></tr>\n",
       "\t<tr><td>2010</td><td>82990</td></tr>\n",
       "\t<tr><td>2011</td><td>85935</td></tr>\n",
       "\t<tr><td>2012</td><td>81175</td></tr>\n",
       "\t<tr><td>2013</td><td>76891</td></tr>\n",
       "\t<tr><td>2014</td><td>77272</td></tr>\n",
       "\t<tr><td>2015</td><td>79436</td></tr>\n",
       "\t<tr><td>2016</td><td>83436</td></tr>\n",
       "\t<tr><td>2017</td><td>80239</td></tr>\n",
       "\t<tr><td>  NA</td><td>  340</td></tr>\n",
       "</tbody>\n",
       "</table>\n"
      ],
      "text/latex": [
       "A tibble: 14 × 2\n",
       "\\begin{tabular}{r|ll}\n",
       " year & total\\_offense\\\\\n",
       " <dbl> & <int>\\\\\n",
       "\\hline\n",
       "\t 2005 & 77351\\\\\n",
       "\t 2006 & 83865\\\\\n",
       "\t 2007 & 90795\\\\\n",
       "\t 2008 & 85858\\\\\n",
       "\t 2009 & 77991\\\\\n",
       "\t 2010 & 82990\\\\\n",
       "\t 2011 & 85935\\\\\n",
       "\t 2012 & 81175\\\\\n",
       "\t 2013 & 76891\\\\\n",
       "\t 2014 & 77272\\\\\n",
       "\t 2015 & 79436\\\\\n",
       "\t 2016 & 83436\\\\\n",
       "\t 2017 & 80239\\\\\n",
       "\t   NA &   340\\\\\n",
       "\\end{tabular}\n"
      ],
      "text/markdown": [
       "\n",
       "A tibble: 14 × 2\n",
       "\n",
       "| year &lt;dbl&gt; | total_offense &lt;int&gt; |\n",
       "|---|---|\n",
       "| 2005 | 77351 |\n",
       "| 2006 | 83865 |\n",
       "| 2007 | 90795 |\n",
       "| 2008 | 85858 |\n",
       "| 2009 | 77991 |\n",
       "| 2010 | 82990 |\n",
       "| 2011 | 85935 |\n",
       "| 2012 | 81175 |\n",
       "| 2013 | 76891 |\n",
       "| 2014 | 77272 |\n",
       "| 2015 | 79436 |\n",
       "| 2016 | 83436 |\n",
       "| 2017 | 80239 |\n",
       "|   NA |   340 |\n",
       "\n"
      ],
      "text/plain": [
       "   year total_offense\n",
       "1  2005 77351        \n",
       "2  2006 83865        \n",
       "3  2007 90795        \n",
       "4  2008 85858        \n",
       "5  2009 77991        \n",
       "6  2010 82990        \n",
       "7  2011 85935        \n",
       "8  2012 81175        \n",
       "9  2013 76891        \n",
       "10 2014 77272        \n",
       "11 2015 79436        \n",
       "12 2016 83436        \n",
       "13 2017 80239        \n",
       "14   NA   340        "
      ]
     },
     "metadata": {},
     "output_type": "display_data"
    }
   ],
   "source": [
    "# only select year 2005-2017\n",
    "ky_drug_minor_1 <- ky_drug_minor[-c(1,2,3,4,5),]\n",
    "ky_drug_minor_1\n",
    "\n",
    "ky_all_1 <- ky_all[-c(1:48),]\n",
    "ky_all_1"
   ]
  },
  {
   "cell_type": "code",
   "execution_count": 23,
   "metadata": {},
   "outputs": [
    {
     "name": "stderr",
     "output_type": "stream",
     "text": [
      "also installing the dependencies ‘RcppEigen’, ‘pbkrtest’, ‘lme4’, ‘car’, ‘AER’\n",
      "\n",
      "Updating HTML index of packages in '.Library'\n",
      "Making 'packages.html' ... done\n",
      "Loading required package: sandwich\n",
      "Loading required package: lmtest\n",
      "Loading required package: zoo\n",
      "\n",
      "Attaching package: ‘zoo’\n",
      "\n",
      "The following objects are masked from ‘package:base’:\n",
      "\n",
      "    as.Date, as.Date.numeric\n",
      "\n",
      "Loading required package: AER\n",
      "Loading required package: car\n",
      "Loading required package: carData\n",
      "\n",
      "Attaching package: ‘car’\n",
      "\n",
      "The following object is masked from ‘package:dplyr’:\n",
      "\n",
      "    recode\n",
      "\n",
      "Loading required package: survival\n",
      "Loading required package: Formula\n"
     ]
    }
   ],
   "source": [
    "# load rdd package\n",
    "install.packages(\"rdd\")\n",
    "library(rdd)\n",
    "library(ggplot2)"
   ]
  },
  {
   "cell_type": "code",
   "execution_count": 24,
   "metadata": {},
   "outputs": [],
   "source": [
    "# RD estimate for minor drug offense \n",
    "reg.1 = RDestimate(minor_offense~year,data=ky_drug_minor_1,cutpoint = 2012)"
   ]
  },
  {
   "cell_type": "code",
   "execution_count": 73,
   "metadata": {},
   "outputs": [
    {
     "name": "stdout",
     "output_type": "stream",
     "text": [
      "\n",
      "Call:\n",
      "RDestimate(formula = minor_offense ~ year, data = ky_drug_minor_1, \n",
      "    cutpoint = 2012)\n",
      "\n",
      "Type:\n",
      "sharp \n",
      "\n",
      "Estimates:\n",
      "           Bandwidth  Observations  Estimate  Std. Error  z value  Pr(>|z|)    \n",
      "LATE        6.609     12            581.3     266.5       2.181    0.029152  * \n",
      "Half-BW     3.304      7            142.7     109.6       1.302    0.193070    \n",
      "Double-BW  13.217     13            613.6     222.2       2.762    0.005742  **\n",
      "---\n",
      "Signif. codes:  0 '***' 0.001 '**' 0.01 '*' 0.05 '.' 0.1 ' ' 1\n",
      "\n",
      "F-statistics:\n",
      "           F       Num. DoF  Denom. DoF  p      \n",
      "LATE        7.111  3         8           0.02407\n",
      "Half-BW    15.044  3         3           0.05183\n",
      "Double-BW   7.417  3         9           0.01669\n"
     ]
    },
    {
     "data": {
      "text/html": [
       "<strong>png:</strong> 2"
      ],
      "text/latex": [
       "\\textbf{png:} 2"
      ],
      "text/markdown": [
       "**png:** 2"
      ],
      "text/plain": [
       "png \n",
       "  2 "
      ]
     },
     "metadata": {},
     "output_type": "display_data"
    }
   ],
   "source": [
    "summary(reg.1)\n",
    "\n",
    "jpeg('minorplot.jpg')\n",
    "plot(reg.1)\n",
    "dev.off()"
   ]
  },
  {
   "cell_type": "code",
   "execution_count": null,
   "metadata": {},
   "outputs": [],
   "source": []
  },
  {
   "cell_type": "code",
   "execution_count": 62,
   "metadata": {},
   "outputs": [],
   "source": [
    "# RD estimate for felony drug offense \n",
    "reg.2 = RDestimate(felony~year,data=ky_drug_minor_1,cutpoint = 2012)"
   ]
  },
  {
   "cell_type": "code",
   "execution_count": 76,
   "metadata": {},
   "outputs": [
    {
     "data": {
      "text/html": [
       "<strong>png:</strong> 2"
      ],
      "text/latex": [
       "\\textbf{png:} 2"
      ],
      "text/markdown": [
       "**png:** 2"
      ],
      "text/plain": [
       "png \n",
       "  2 "
      ]
     },
     "metadata": {},
     "output_type": "display_data"
    }
   ],
   "source": [
    "#summary(reg.2)\n",
    "\n",
    "jpeg('felonyplot.jpg')\n",
    "plot(reg.2,xlab=\"Year\",ylab=\"Cases\")\n",
    "dev.off()"
   ]
  },
  {
   "cell_type": "code",
   "execution_count": 72,
   "metadata": {},
   "outputs": [
    {
     "data": {
      "text/html": [
       "<strong>png:</strong> 2"
      ],
      "text/latex": [
       "\\textbf{png:} 2"
      ],
      "text/markdown": [
       "**png:** 2"
      ],
      "text/plain": [
       "png \n",
       "  2 "
      ]
     },
     "metadata": {},
     "output_type": "display_data"
    }
   ],
   "source": [
    "jpeg('totalplot.jpg')\n",
    "\n",
    "barplot(ky_all_1$total_offense,main=\"Total crime number in Louisville over Year\", \n",
    "        xlab = \"Year\",ylab=\"Number of Case\", names.arg =c(\"2005\",\"2006\",\"2007\",\"2008\",\"2009\",\"2010\",\n",
    "                                    \"2011\",\"2012\",\"2013\",\"2014\",\"2015\",\"2016\",\"2017\",\"NA\"))\n",
    "\n",
    "dev.off()"
   ]
  },
  {
   "cell_type": "code",
   "execution_count": null,
   "metadata": {},
   "outputs": [],
   "source": []
  }
 ],
 "metadata": {
  "kernelspec": {
   "display_name": "R",
   "language": "R",
   "name": "ir"
  },
  "language_info": {
   "codemirror_mode": "r",
   "file_extension": ".r",
   "mimetype": "text/x-r-source",
   "name": "R",
   "pygments_lexer": "r",
   "version": "3.6.1"
  }
 },
 "nbformat": 4,
 "nbformat_minor": 4
}
